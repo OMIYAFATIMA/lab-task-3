{
 "cells": [
  {
   "cell_type": "code",
   "execution_count": 1,
   "id": "dd533575-1de4-4f2f-aa2e-1f416fa428c5",
   "metadata": {},
   "outputs": [
    {
     "name": "stdout",
     "output_type": "stream",
     "text": [
      "{'name': 'Omiya', 'age': 19, 'city': 'SKP', 'hobbies': ['reading', 'cooking', 'coding']}\n"
     ]
    }
   ],
   "source": [
    "#Omiya fatima\n",
    "#Sp25-bbd-102\n",
    "#Q no 1\n",
    "person = {\n",
    "    \"name\": \"Omiya\",\n",
    "    \"age\": 19,\n",
    "    \"city\": \"SKP\",\n",
    "    \"hobbies\": [\"reading\", \"cooking\", \"coding\"]\n",
    "}\n",
    "\n",
    "print(person)"
   ]
  },
  {
   "cell_type": "code",
   "execution_count": 10,
   "id": "5990ab06-c873-489b-9db6-edcefa89ba28",
   "metadata": {},
   "outputs": [
    {
     "name": "stdout",
     "output_type": "stream",
     "text": [
      "{'this': 2, 'is': 2, 'a': 2, 'test': 2, 'only': 1}\n"
     ]
    }
   ],
   "source": [
    "#Q no 2\n",
    "text = \"this is a test this is only a test\"\n",
    "words = text.split()\n",
    "word_count = {}\n",
    "for word in words:\n",
    "    word_count[word] = word_count.get(word, 0) + 1\n",
    "print(word_count)"
   ]
  },
  {
   "cell_type": "code",
   "execution_count": 3,
   "id": "d92fe318-4a59-473c-b670-873401dcfe69",
   "metadata": {},
   "outputs": [
    {
     "name": "stdout",
     "output_type": "stream",
     "text": [
      "Current Inventory:\n",
      "apple : 15\n",
      "orange : 8\n",
      "grape : 12\n"
     ]
    }
   ],
   "source": [
    "#Q no 3\n",
    "# Step 1: Create an inventory dictionary\n",
    "inventory = {\n",
    "    \"apple\": 10,\n",
    "    \"banana\": 5,\n",
    "    \"orange\": 8\n",
    "}\n",
    "# Step 2: Add or update an item\n",
    "inventory[\"apple\"] += 5  # Adding 5 more apples\n",
    "inventory[\"grape\"] = 12  # Adding a new item\n",
    "# Step 3: Remove an item\n",
    "del inventory[\"banana\"]\n",
    "# Step 4: Display the inventory\n",
    "print(\"Current Inventory:\")\n",
    "for item, quantity in inventory.items():\n",
    "    print(item, \":\", quantity)\n"
   ]
  },
  {
   "cell_type": "code",
   "execution_count": 11,
   "id": "de895395-cd2f-4fdf-af35-541f65b043e6",
   "metadata": {},
   "outputs": [
    {
     "name": "stdout",
     "output_type": "stream",
     "text": [
      "Most popular category: Books\n"
     ]
    }
   ],
   "source": [
    "#Q no 4\n",
    "orders = [\"Electronics\", \"Clothing\", \"Clothing\", \"Electronics\", \"Books\",\n",
    "          \"Clothing\", \"Books\", \"Electronics\", \"Books\", \"Books\"]\n",
    "# Step 1: Count categories\n",
    "counts = {}\n",
    "for c in orders:\n",
    "    counts[c] = counts.get(c, 0) + 1\n",
    "# Step 2: Find most popular category\n",
    "popular = max(counts, key=counts.get)\n",
    "print(\"Most popular category:\", popular)"
   ]
  },
  {
   "cell_type": "code",
   "execution_count": 5,
   "id": "e9f66398-35f3-4b7e-943c-862c9bf255df",
   "metadata": {},
   "outputs": [
    {
     "name": "stdout",
     "output_type": "stream",
     "text": [
      "Average grade: 86.25\n"
     ]
    }
   ],
   "source": [
    "#Q no 5\n",
    "# Step 1: Create dictionary of student grades\n",
    "grades = {\n",
    "    \"Ali\": 85,\n",
    "    \"Sara\": 90,\n",
    "    \"Ahmed\": 78,\n",
    "    \"Zara\": 92\n",
    "}\n",
    "# Step 2: Calculate average\n",
    "total = sum(grades.values())\n",
    "average = total / len(grades)\n",
    "# Step 3: Print result\n",
    "print(\"Average grade:\", average)"
   ]
  },
  {
   "cell_type": "code",
   "execution_count": 12,
   "id": "6b974819-25c2-4294-b8c8-8ea73ec7234b",
   "metadata": {},
   "outputs": [
    {
     "name": "stdout",
     "output_type": "stream",
     "text": [
      "Inventory: {'Apple': {'quantity': 10, 'price': 2}, 'Banana': {'quantity': 25, 'price': 1}, 'Orange': {'quantity': 15, 'price': 3}}\n",
      "Total Inventory Value: 90\n"
     ]
    }
   ],
   "source": [
    "#Q no 6\n",
    "# Step 1: Create the inventory dictionary\n",
    "inventory = {}\n",
    "\n",
    "# Step 2: Function to add new products\n",
    "def add_product(name, quantity, price):\n",
    "    inventory[name] = {\"quantity\": quantity, \"price\": price}\n",
    "    \n",
    "# Step 3: Function to update product quantity\n",
    "def update_quantity(name, quantity):\n",
    "    if name in inventory:\n",
    "        inventory[name][\"quantity\"] += quantity\n",
    "    else:\n",
    "        print(name, \"not found in inventory.\")\n",
    "        \n",
    "# Step 4: Function to calculate total inventory value\n",
    "def calculate_total_value():\n",
    "    total = 0\n",
    "    for product in inventory.values():\n",
    "        total += product[\"quantity\"] * product[\"price\"]\n",
    "    return total\n",
    "# Test the functions\n",
    "add_product(\"Apple\", 10, 2)\n",
    "add_product(\"Banana\", 20, 1)\n",
    "add_product(\"Orange\", 15, 3)\n",
    "update_quantity(\"Banana\", 5)\n",
    "print(\"Inventory:\", inventory)\n",
    "print(\"Total Inventory Value:\", calculate_total_value())"
   ]
  },
  {
   "cell_type": "code",
   "execution_count": 13,
   "id": "565e7e99-021f-4733-999d-0efb7cd6713c",
   "metadata": {},
   "outputs": [
    {
     "name": "stdout",
     "output_type": "stream",
     "text": [
      "Ali's average grade: 85.0\n",
      "Sara's average grade: 91.67\n",
      "Ahmed's average grade: 70.0\n",
      "Zara's average grade: 87.67\n",
      "Highest in Math: Sara\n",
      "Lowest in Math: Ahmed\n"
     ]
    }
   ],
   "source": [
    "#Q no 7\n",
    "# Step 1: Create gradebook dictionary\n",
    "gradebook = {\n",
    "    \"Ali\": {\"Math\": 85, \"English\": 90, \"Science\": 80},\n",
    "    \"Sara\": {\"Math\": 95, \"English\": 88, \"Science\": 92},\n",
    "    \"Ahmed\": {\"Math\": 70, \"English\": 75, \"Science\": 65},\n",
    "    \"Zara\": {\"Math\": 90, \"English\": 85, \"Science\": 88}\n",
    "}\n",
    "# Step 2: Calculate and print average grades\n",
    "for student in gradebook:\n",
    "    total = sum(gradebook[student].values())\n",
    "    avg = total / len(gradebook[student])\n",
    "    print(f\"{student}'s average grade: {round(avg, 2)}\")\n",
    "    \n",
    "# Step 3: Find highest and lowest grades in Math\n",
    "math_grades = {student: gradebook[student][\"Math\"] for student in gradebook}\n",
    "highest_student = max(math_grades, key=math_grades.get)\n",
    "lowest_student = min(math_grades, key=math_grades.get)\n",
    "print(f\"Highest in Math: {highest_student}\")\n",
    "print(f\"Lowest in Math: {lowest_student}\")"
   ]
  },
  {
   "cell_type": "code",
   "execution_count": 9,
   "id": "b9e5d8e3-a9f2-4b70-8d38-8b28ba3a9c91",
   "metadata": {},
   "outputs": [
    {
     "name": "stdout",
     "output_type": "stream",
     "text": [
      "Total cost before tax: $900\n",
      "Final cost after discount and tax: $990.0\n"
     ]
    }
   ],
   "source": [
    "#Q no 8\n",
    "# Step 1: Product Catalog\n",
    "products = {\n",
    "    \"Laptop\": {\"price\": 800, \"quantity\": 10},\n",
    "    \"Smartphone\": {\"price\": 500, \"quantity\": 15},\n",
    "    \"Headphones\": {\"price\": 50, \"quantity\": 30},\n",
    "    \"Keyboard\": {\"price\": 20, \"quantity\": 25}\n",
    "}\n",
    "\n",
    "# Step 2: Shopping Cart\n",
    "cart = {}\n",
    "\n",
    "# Step 3: Add product to cart\n",
    "def add_to_cart(product, quantity):\n",
    "    if product in products and products[product][\"quantity\"] >= quantity:\n",
    "        cart[product] = cart.get(product, 0) + quantity\n",
    "        products[product][\"quantity\"] -= quantity\n",
    "    else:\n",
    "        print(\"Not enough stock for\", product)\n",
    "\n",
    "# Step 4: Calculate total cost\n",
    "def calculate_total():\n",
    "    total = 0\n",
    "    for product, quantity in cart.items():\n",
    "        total += products[product][\"price\"] * quantity\n",
    "    return total\n",
    "\n",
    "# Step 5: Apply discount and tax\n",
    "def apply_discount_tax(total):\n",
    "    return total * 1.1  # 10% discount and tax\n",
    "\n",
    "#Example Usage\n",
    "add_to_cart(\"Laptop\", 1)\n",
    "add_to_cart(\"Headphones\", 2)\n",
    "\n",
    "# Calculate total\n",
    "total = calculate_total()\n",
    "final_total = apply_discount_tax(total)\n",
    "\n",
    "print(f\"Total cost before tax: ${total}\")\n",
    "print(f\"Final cost after discount and tax: ${round(final_total, 2)}\")"
   ]
  },
  {
   "cell_type": "code",
   "execution_count": null,
   "id": "037cb807-766d-4cab-bbaa-37a441fb41df",
   "metadata": {},
   "outputs": [],
   "source": []
  }
 ],
 "metadata": {
  "kernelspec": {
   "display_name": "Python 3 (ipykernel)",
   "language": "python",
   "name": "python3"
  },
  "language_info": {
   "codemirror_mode": {
    "name": "ipython",
    "version": 3
   },
   "file_extension": ".py",
   "mimetype": "text/x-python",
   "name": "python",
   "nbconvert_exporter": "python",
   "pygments_lexer": "ipython3",
   "version": "3.12.7"
  }
 },
 "nbformat": 4,
 "nbformat_minor": 5
}
